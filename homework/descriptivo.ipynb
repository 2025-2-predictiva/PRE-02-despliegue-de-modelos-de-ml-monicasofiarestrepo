{
 "cells": [
  {
   "cell_type": "code",
   "execution_count": null,
   "id": "08e8384e",
   "metadata": {},
   "outputs": [],
   "source": [
    "import pandas as pd\n",
    "import matplotlib.pyplot as plt\n",
    "import seaborn as sns\n",
    "\n",
    "df = pd.read_csv(\"PRE-02-despliegue-de-modelos-de-ml-monicasofiarestrepo/files/input/house_data.csv\")\n",
    "\n",
    "df.describe()\n",
    "\n",
    "sns.histplot(df[\"price\"], bins=50)\n",
    "plt.show()\n",
    "\n",
    "sns.heatmap(df.corr(), cmap=\"coolwarm\")\n",
    "plt.show()"
   ]
  }
 ],
 "metadata": {
  "language_info": {
   "name": "python"
  }
 },
 "nbformat": 4,
 "nbformat_minor": 5
}
